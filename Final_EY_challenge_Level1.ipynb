{
 "cells": [
  {
   "cell_type": "code",
   "execution_count": 1,
   "id": "c0a735f0-adfa-4882-8883-6c328255c409",
   "metadata": {},
   "outputs": [],
   "source": [
    "#!pip install xgboost\n",
    "from xgboost import XGBClassifier\n",
    "\n",
    "import pystac\n",
    "import pystac_client\n",
    "import planetary_computer as pc\n",
    "import requests\n",
    "import rich.table\n",
    "\n",
    "from IPython.display import Image\n",
    "\n",
    "\n",
    "# Visualization\n",
    "import ipyleaflet\n",
    "import matplotlib.pyplot as plt\n",
    "from IPython.display import Image\n",
    "import seaborn as sns\n",
    "\n",
    "# Data Science\n",
    "import numpy as np\n",
    "import pandas as pd\n",
    "\n",
    "# Feature Engineering\n",
    "from sklearn.preprocessing import StandardScaler\n",
    "from sklearn.preprocessing import RobustScaler\n",
    "from sklearn.model_selection import train_test_split\n",
    "\n",
    "# Machine Learning\n",
    "from sklearn.linear_model import LogisticRegression\n",
    "from sklearn.metrics import f1_score, accuracy_score,classification_report,confusion_matrix\n",
    "\n",
    "# Others\n",
    "import requests\n",
    "import rich.table\n",
    "from itertools import cycle\n",
    "from tqdm import tqdm\n",
    "from odc.stac import stac_load\n",
    "tqdm.pandas()"
   ]
  },
  {
   "cell_type": "code",
   "execution_count": 2,
   "id": "71823404-d8c3-45f8-8206-3bda219ae73b",
   "metadata": {},
   "outputs": [
    {
     "data": {
      "text/html": [
       "<div>\n",
       "<style scoped>\n",
       "    .dataframe tbody tr th:only-of-type {\n",
       "        vertical-align: middle;\n",
       "    }\n",
       "\n",
       "    .dataframe tbody tr th {\n",
       "        vertical-align: top;\n",
       "    }\n",
       "\n",
       "    .dataframe thead th {\n",
       "        text-align: right;\n",
       "    }\n",
       "</style>\n",
       "<table border=\"1\" class=\"dataframe\">\n",
       "  <thead>\n",
       "    <tr style=\"text-align: right;\">\n",
       "      <th></th>\n",
       "      <th>Latitude and Longitude</th>\n",
       "      <th>Class of Land</th>\n",
       "    </tr>\n",
       "  </thead>\n",
       "  <tbody>\n",
       "    <tr>\n",
       "      <th>0</th>\n",
       "      <td>(10.323727047081501, 105.2516346045924)</td>\n",
       "      <td>Rice</td>\n",
       "    </tr>\n",
       "    <tr>\n",
       "      <th>1</th>\n",
       "      <td>(10.322364360592521, 105.27843410554115)</td>\n",
       "      <td>Rice</td>\n",
       "    </tr>\n",
       "    <tr>\n",
       "      <th>2</th>\n",
       "      <td>(10.321455902933202, 105.25254306225168)</td>\n",
       "      <td>Rice</td>\n",
       "    </tr>\n",
       "    <tr>\n",
       "      <th>3</th>\n",
       "      <td>(10.324181275911162, 105.25118037576274)</td>\n",
       "      <td>Rice</td>\n",
       "    </tr>\n",
       "    <tr>\n",
       "      <th>4</th>\n",
       "      <td>(10.324635504740822, 105.27389181724476)</td>\n",
       "      <td>Rice</td>\n",
       "    </tr>\n",
       "  </tbody>\n",
       "</table>\n",
       "</div>"
      ],
      "text/plain": [
       "                     Latitude and Longitude Class of Land\n",
       "0   (10.323727047081501, 105.2516346045924)          Rice\n",
       "1  (10.322364360592521, 105.27843410554115)          Rice\n",
       "2  (10.321455902933202, 105.25254306225168)          Rice\n",
       "3  (10.324181275911162, 105.25118037576274)          Rice\n",
       "4  (10.324635504740822, 105.27389181724476)          Rice"
      ]
     },
     "execution_count": 2,
     "metadata": {},
     "output_type": "execute_result"
    }
   ],
   "source": [
    "catalog = pystac_client.Client.open(\"https://planetarycomputer.microsoft.com/api/stac/v1\",\n",
    "    modifier=pc.sign_inplace,\n",
    "    )\n",
    "crop_presence_data = pd.read_csv(\"Crop_Location_Data_20221201.csv\")\n",
    "crop_presence_data.head()"
   ]
  },
  {
   "cell_type": "code",
   "execution_count": 3,
   "id": "a235ae9d-ac17-4480-914e-9d3a1809cb9f",
   "metadata": {},
   "outputs": [],
   "source": [
    "def get_vv_vh(corr, time):\n",
    "    latlong = corr\n",
    "    latlong = latlong.replace('(','').replace(')','').replace(' ','').split(',')\n",
    "    latlong = [float(latlong[0]), float(latlong[1])]\n",
    "    \n",
    "    box_size_deg = 0.0005\n",
    "    min_lon = latlong[1]-box_size_deg/2\n",
    "    min_lat = latlong[0]-box_size_deg/2\n",
    "    max_lon = latlong[1]+box_size_deg/2\n",
    "    max_lat = latlong[0]+box_size_deg/2\n",
    "    bbox = (min_lon, min_lat, max_lon, max_lat)\n",
    "    \n",
    "    search = catalog.search(collections=[\"sentinel-1-rtc\"], bbox=bbox, datetime=time)\n",
    "    items = list(search.get_all_items())\n",
    "    resolution = 10  # meters per pixel \n",
    "    scale = resolution / 111320.0 # degrees per pixel for crs=4326 \n",
    "    data = stac_load(items, bands=[\"vv\", \"vh\"], patch_url=pc.sign, bbox=bbox, crs=\"EPSG:4326\", resolution=scale).isel(time=0)\n",
    "    \n",
    "    mean = data.median(dim=['latitude','longitude']).compute()\n",
    "    return float(mean['vh'].mean()), float(mean['vv'].mean())"
   ]
  },
  {
   "cell_type": "code",
   "execution_count": 130,
   "id": "f4924ded-fcd0-4025-9030-dd82aded8b8c",
   "metadata": {},
   "outputs": [],
   "source": [
    "def get_hh_hv(corr, time):\n",
    "    latlong = corr\n",
    "    latlong = latlong.replace('(','').replace(')','').replace(' ','').split(',')\n",
    "    latlong = [float(latlong[0]), float(latlong[1])]\n",
    "    \n",
    "    box_size_deg = 0.0005\n",
    "    min_lon = latlong[1]-box_size_deg/2\n",
    "    min_lat = latlong[0]-box_size_deg/2\n",
    "    max_lon = latlong[1]+box_size_deg/2\n",
    "    max_lat = latlong[0]+box_size_deg/2\n",
    "    bbox = (min_lon, min_lat, max_lon, max_lat)\n",
    "    \n",
    "    search = catalog.search(collections=[\"sentinel-1-rtc\"], bbox=bbox, datetime=time)\n",
    "    items = list(search.get_all_items())\n",
    "    resolution = 10  # meters per pixel \n",
    "    scale = resolution / 111320.0 # degrees per pixel for crs=4326 \n",
    "    data = stac_load(items, bands=[\"hh\", \"hv\"], patch_url=pc.sign, bbox=bbox, crs=\"EPSG:4326\", resolution=scale).isel(time=0)\n",
    "    \n",
    "    mean = data.median(dim=['latitude','longitude']).compute()\n",
    "    return float(mean['hv'].mean()), float(mean['hh'].mean())"
   ]
  },
  {
   "cell_type": "code",
   "execution_count": 6,
   "id": "7c9393c0-e74a-4396-bff0-d3bb4b4db7b5",
   "metadata": {},
   "outputs": [],
   "source": [
    "to_strat_X = crop_presence_data.drop('Class of Land', axis = 1)\n",
    "to_strat_y = crop_presence_data['Class of Land']\n",
    "_, X_strat, _, y_strat = train_test_split(to_strat_X, to_strat_y, test_size=0.3, stratify=to_strat_y)"
   ]
  },
  {
   "cell_type": "code",
   "execution_count": 7,
   "id": "16b99093-8916-41f4-ac31-ce04ad6cf45a",
   "metadata": {},
   "outputs": [],
   "source": [
    "df_strat = pd.concat([X_strat, y_strat], axis = 1)\n",
    "df_strat = df_strat.reset_index()"
   ]
  },
  {
   "cell_type": "code",
   "execution_count": 11,
   "id": "17ac1aa9-4747-4a31-bc16-5c0dc3656786",
   "metadata": {
    "tags": []
   },
   "outputs": [
    {
     "name": "stderr",
     "output_type": "stream",
     "text": [
      "100%|██████████| 600/600 [43:50<00:00,  4.38s/it]\n"
     ]
    }
   ],
   "source": [
    "time_slice = \"2022-01-15/2022-05-31\"\n",
    "vh_vv = []\n",
    "\n",
    "for coordinates in tqdm(crop_presence_data['Latitude and Longitude']):\n",
    "    vh, vv = get_vv_vh(coordinates, time_slice)\n",
    "    #print(vh, vv)\n",
    "    vh_vv.append([vh, vv])\n",
    "vh_vv_data = pd.DataFrame(vh_vv,columns =['vh','vv'])"
   ]
  },
  {
   "cell_type": "code",
   "execution_count": null,
   "id": "8fe97f86-346e-43f6-8d7f-9d4675e480da",
   "metadata": {},
   "outputs": [],
   "source": [
    "time_slice = \"2022-01-15/2022-05-31\"\n",
    "hh_hv = []\n",
    "\n",
    "for coordinates in tqdm(crop_presence_data['Latitude and Longitude']):\n",
    "    hh, hv = get_vv_vh(coordinates, time_slice)\n",
    "    print(hh, hv)\n",
    "    hh_hv.append([hh, hv])\n",
    "hh_hv_data = pd.DataFrame(vh_vv,columns =['hh','hv'])"
   ]
  },
  {
   "cell_type": "code",
   "execution_count": 12,
   "id": "8eac19fe-4494-409a-b654-7c717e0ffb3d",
   "metadata": {},
   "outputs": [],
   "source": [
    "VV = np.array(vh_vv_data['vv'])\n",
    "VH = np.array(vh_vv_data['vh'])\n",
    "rvi = np.sqrt(1- VV / (VV+VH)) * 4 * (VH / (VV + VH))\n",
    "rvi = pd.DataFrame({'RVI': rvi})"
   ]
  },
  {
   "cell_type": "code",
   "execution_count": 16,
   "id": "70365276-71ce-42f6-80b6-a37e5e5da939",
   "metadata": {
    "tags": []
   },
   "outputs": [
    {
     "data": {
      "text/html": [
       "<div>\n",
       "<style scoped>\n",
       "    .dataframe tbody tr th:only-of-type {\n",
       "        vertical-align: middle;\n",
       "    }\n",
       "\n",
       "    .dataframe tbody tr th {\n",
       "        vertical-align: top;\n",
       "    }\n",
       "\n",
       "    .dataframe thead th {\n",
       "        text-align: right;\n",
       "    }\n",
       "</style>\n",
       "<table border=\"1\" class=\"dataframe\">\n",
       "  <thead>\n",
       "    <tr style=\"text-align: right;\">\n",
       "      <th></th>\n",
       "      <th>vh</th>\n",
       "      <th>vv</th>\n",
       "      <th>RVI</th>\n",
       "      <th>Class of Land</th>\n",
       "    </tr>\n",
       "  </thead>\n",
       "  <tbody>\n",
       "    <tr>\n",
       "      <th>0</th>\n",
       "      <td>0.022579</td>\n",
       "      <td>0.110633</td>\n",
       "      <td>0.279131</td>\n",
       "      <td>Rice</td>\n",
       "    </tr>\n",
       "    <tr>\n",
       "      <th>1</th>\n",
       "      <td>0.026226</td>\n",
       "      <td>0.142474</td>\n",
       "      <td>0.245174</td>\n",
       "      <td>Rice</td>\n",
       "    </tr>\n",
       "    <tr>\n",
       "      <th>2</th>\n",
       "      <td>0.019677</td>\n",
       "      <td>0.188440</td>\n",
       "      <td>0.116291</td>\n",
       "      <td>Rice</td>\n",
       "    </tr>\n",
       "    <tr>\n",
       "      <th>3</th>\n",
       "      <td>0.029277</td>\n",
       "      <td>0.162181</td>\n",
       "      <td>0.239187</td>\n",
       "      <td>Rice</td>\n",
       "    </tr>\n",
       "    <tr>\n",
       "      <th>4</th>\n",
       "      <td>0.021837</td>\n",
       "      <td>0.095853</td>\n",
       "      <td>0.319703</td>\n",
       "      <td>Rice</td>\n",
       "    </tr>\n",
       "    <tr>\n",
       "      <th>...</th>\n",
       "      <td>...</td>\n",
       "      <td>...</td>\n",
       "      <td>...</td>\n",
       "      <td>...</td>\n",
       "    </tr>\n",
       "    <tr>\n",
       "      <th>595</th>\n",
       "      <td>0.068065</td>\n",
       "      <td>0.271413</td>\n",
       "      <td>0.359108</td>\n",
       "      <td>Non Rice</td>\n",
       "    </tr>\n",
       "    <tr>\n",
       "      <th>596</th>\n",
       "      <td>0.077354</td>\n",
       "      <td>0.265505</td>\n",
       "      <td>0.428659</td>\n",
       "      <td>Non Rice</td>\n",
       "    </tr>\n",
       "    <tr>\n",
       "      <th>597</th>\n",
       "      <td>0.057026</td>\n",
       "      <td>0.262198</td>\n",
       "      <td>0.302010</td>\n",
       "      <td>Non Rice</td>\n",
       "    </tr>\n",
       "    <tr>\n",
       "      <th>598</th>\n",
       "      <td>0.051407</td>\n",
       "      <td>0.279444</td>\n",
       "      <td>0.244988</td>\n",
       "      <td>Non Rice</td>\n",
       "    </tr>\n",
       "    <tr>\n",
       "      <th>599</th>\n",
       "      <td>0.052715</td>\n",
       "      <td>0.342783</td>\n",
       "      <td>0.194644</td>\n",
       "      <td>Non Rice</td>\n",
       "    </tr>\n",
       "  </tbody>\n",
       "</table>\n",
       "<p>600 rows × 4 columns</p>\n",
       "</div>"
      ],
      "text/plain": [
       "           vh        vv       RVI Class of Land\n",
       "0    0.022579  0.110633  0.279131          Rice\n",
       "1    0.026226  0.142474  0.245174          Rice\n",
       "2    0.019677  0.188440  0.116291          Rice\n",
       "3    0.029277  0.162181  0.239187          Rice\n",
       "4    0.021837  0.095853  0.319703          Rice\n",
       "..        ...       ...       ...           ...\n",
       "595  0.068065  0.271413  0.359108      Non Rice\n",
       "596  0.077354  0.265505  0.428659      Non Rice\n",
       "597  0.057026  0.262198  0.302010      Non Rice\n",
       "598  0.051407  0.279444  0.244988      Non Rice\n",
       "599  0.052715  0.342783  0.194644      Non Rice\n",
       "\n",
       "[600 rows x 4 columns]"
      ]
     },
     "execution_count": 16,
     "metadata": {},
     "output_type": "execute_result"
    }
   ],
   "source": [
    "crop_data = pd.concat([crop_presence_data, vh_vv_data, rvi], axis = 1)\n",
    "crop_data = crop_data[['vh', 'vv', 'RVI', 'Class of Land']]\n",
    "crop_data"
   ]
  },
  {
   "cell_type": "code",
   "execution_count": 92,
   "id": "b4a66b32-9c87-4644-b774-2e80b610cec8",
   "metadata": {},
   "outputs": [],
   "source": [
    "X = crop_data.drop(columns=['Class of Land']).values\n",
    "y = crop_data['Class of Land'].values\n",
    "X_train, X_test, y_train, y_test = train_test_split(X, y, test_size=0.2,stratify=y)"
   ]
  },
  {
   "cell_type": "code",
   "execution_count": 93,
   "id": "bfa3f197-2c65-4d68-a88a-700c009f840e",
   "metadata": {},
   "outputs": [],
   "source": [
    "sc = StandardScaler()\n",
    "rob = RobustScaler()\n",
    "X_train = rob.fit_transform(X_train)\n",
    "X_test = rob.transform(X_test)"
   ]
  },
  {
   "cell_type": "code",
   "execution_count": 102,
   "id": "99e16547-2e18-497c-b70a-6eeb1aa9efa5",
   "metadata": {},
   "outputs": [
    {
     "name": "stdout",
     "output_type": "stream",
     "text": [
      "0.9666666666666667\n"
     ]
    },
    {
     "data": {
      "text/plain": [
       "0.9166666666666666"
      ]
     },
     "execution_count": 102,
     "metadata": {},
     "output_type": "execute_result"
    }
   ],
   "source": [
    "xgb_cl = XGBClassifier(learning_rate=0.02, gamma = 0.1, reg_alpha=0, reg_lambda=1, subsample = 0.8)\n",
    "y_train01 = np.where(y_train == 'Rice', 1, 0)\n",
    "y_test01 = np.where(y_test == 'Rice', 1, 0)\n",
    "xgb_cl.fit(X_train, y_train01)\n",
    "preds = xgb_cl.predict(X_train)\n",
    "acc = accuracy_score(y_train01, preds)\n",
    "print(acc)\n",
    "preds = xgb_cl.predict(X_test)\n",
    "accuracy_score(y_test01, preds)"
   ]
  },
  {
   "cell_type": "code",
   "execution_count": 107,
   "id": "fd6a1b8f-82b6-4398-a5fc-88f575047efb",
   "metadata": {},
   "outputs": [],
   "source": [
    "y_01 = np.where(y == 'Rice', 1, 0)"
   ]
  },
  {
   "cell_type": "code",
   "execution_count": 124,
   "id": "ce83edcd-a82d-4d11-bec8-8fe75688e476",
   "metadata": {},
   "outputs": [
    {
     "name": "stdout",
     "output_type": "stream",
     "text": [
      "0.9574166666666667\n"
     ]
    },
    {
     "data": {
      "text/plain": [
       "{'colsample_bytree': 0.5,\n",
       " 'gamma': 1,\n",
       " 'learning_rate': 0.05,\n",
       " 'max_depth': 4,\n",
       " 'reg_lambda': 0,\n",
       " 'scale_pos_weight': 1,\n",
       " 'subsample': 0.8}"
      ]
     },
     "execution_count": 124,
     "metadata": {},
     "output_type": "execute_result"
    }
   ],
   "source": [
    "from sklearn.model_selection import GridSearchCV\n",
    "\n",
    "param_grid = {\n",
    "    \"max_depth\": [3, 4, 5, 7],\n",
    "    \"learning_rate\": [0.1, 0.01, 0.05],\n",
    "    \"gamma\": [0, 0.25, 1],\n",
    "    \"reg_lambda\": [0, 1, 10],\n",
    "    \"scale_pos_weight\": [1, 3, 5],\n",
    "    \"subsample\": [0.8],\n",
    "    \"colsample_bytree\": [0.5],\n",
    "}\n",
    "\n",
    "# Init classifier\n",
    "xgb_cl = XGBClassifier(objective=\"binary:logistic\")\n",
    "\n",
    "# Init Grid Search\n",
    "grid_cv = GridSearchCV(xgb_cl, param_grid, n_jobs=-1, cv=3, scoring=\"roc_auc\")\n",
    "\n",
    "# Fit\n",
    "_ = grid_cv.fit(X, y_01)\n",
    "print(grid_cv.best_score_)\n",
    "grid_cv.best_params_"
   ]
  },
  {
   "cell_type": "code",
   "execution_count": 125,
   "id": "e6a4b315-1466-41bf-ad99-3f833879d44c",
   "metadata": {},
   "outputs": [
    {
     "name": "stdout",
     "output_type": "stream",
     "text": [
      "0.9708333333333333\n"
     ]
    },
    {
     "data": {
      "text/plain": [
       "0.9083333333333333"
      ]
     },
     "execution_count": 125,
     "metadata": {},
     "output_type": "execute_result"
    }
   ],
   "source": [
    "final_cl = XGBClassifier(\n",
    "    **grid_cv.best_params_,\n",
    "    objective=\"binary:logistic\"\n",
    ")\n",
    "final_cl.fit(X_train, y_train01)\n",
    "preds_train = final_cl.predict(X_train)\n",
    "acc = accuracy_score(y_train01, preds_train)\n",
    "print(acc)\n",
    "preds_test = final_cl.predict(X_test)\n",
    "accuracy_score(y_test01, preds_test)"
   ]
  },
  {
   "cell_type": "code",
   "execution_count": 31,
   "id": "c31313e4-416b-4036-87c6-d7ce483aae71",
   "metadata": {},
   "outputs": [
    {
     "name": "stderr",
     "output_type": "stream",
     "text": [
      "100%|██████████| 250/250 [17:00<00:00,  4.08s/it]\n"
     ]
    }
   ],
   "source": [
    "test_file = pd.read_csv('challenge_1_submission_template_correct_columns_fixed.csv')\n",
    "test_file.head()\n",
    "\n",
    "time_slice = \"2022-01-15/2022-05-15\"\n",
    "sub_vh_vv = []\n",
    "\n",
    "for coordinates in tqdm(test_file['id']):\n",
    "    vh, vv = get_vv_vh(coordinates, time_slice)\n",
    "    #print(vh, vv)\n",
    "    sub_vh_vv.append([vh, vv])\n",
    "sub_vh_vv_data = pd.DataFrame(sub_vh_vv,columns =['vh','vv'])"
   ]
  },
  {
   "cell_type": "code",
   "execution_count": 66,
   "id": "3a491c3f-8b10-44d8-a679-7c41eccdc087",
   "metadata": {},
   "outputs": [],
   "source": [
    "VV = np.array(sub_vh_vv_data['vv'])\n",
    "VH = np.array(sub_vh_vv_data['vh'])\n",
    "rvi_sub = np.sqrt(1- VV / (VV+VH)) * 4 * (VH / (VV + VH))\n",
    "rvi_sub = pd.DataFrame({'RVI': rvi_sub})"
   ]
  },
  {
   "cell_type": "code",
   "execution_count": 68,
   "id": "051fdb2d-aa83-458a-8b9f-45b0c4878613",
   "metadata": {},
   "outputs": [
    {
     "data": {
      "text/html": [
       "<div>\n",
       "<style scoped>\n",
       "    .dataframe tbody tr th:only-of-type {\n",
       "        vertical-align: middle;\n",
       "    }\n",
       "\n",
       "    .dataframe tbody tr th {\n",
       "        vertical-align: top;\n",
       "    }\n",
       "\n",
       "    .dataframe thead th {\n",
       "        text-align: right;\n",
       "    }\n",
       "</style>\n",
       "<table border=\"1\" class=\"dataframe\">\n",
       "  <thead>\n",
       "    <tr style=\"text-align: right;\">\n",
       "      <th></th>\n",
       "      <th>vh</th>\n",
       "      <th>vv</th>\n",
       "      <th>RVI</th>\n",
       "    </tr>\n",
       "  </thead>\n",
       "  <tbody>\n",
       "    <tr>\n",
       "      <th>0</th>\n",
       "      <td>0.023219</td>\n",
       "      <td>0.128806</td>\n",
       "      <td>0.238760</td>\n",
       "    </tr>\n",
       "    <tr>\n",
       "      <th>1</th>\n",
       "      <td>0.019368</td>\n",
       "      <td>0.043169</td>\n",
       "      <td>0.689417</td>\n",
       "    </tr>\n",
       "    <tr>\n",
       "      <th>2</th>\n",
       "      <td>0.014625</td>\n",
       "      <td>0.060399</td>\n",
       "      <td>0.344264</td>\n",
       "    </tr>\n",
       "    <tr>\n",
       "      <th>3</th>\n",
       "      <td>0.003192</td>\n",
       "      <td>0.012423</td>\n",
       "      <td>0.369629</td>\n",
       "    </tr>\n",
       "    <tr>\n",
       "      <th>4</th>\n",
       "      <td>0.011087</td>\n",
       "      <td>0.059098</td>\n",
       "      <td>0.251152</td>\n",
       "    </tr>\n",
       "    <tr>\n",
       "      <th>...</th>\n",
       "      <td>...</td>\n",
       "      <td>...</td>\n",
       "      <td>...</td>\n",
       "    </tr>\n",
       "    <tr>\n",
       "      <th>245</th>\n",
       "      <td>0.005160</td>\n",
       "      <td>0.011760</td>\n",
       "      <td>0.673635</td>\n",
       "    </tr>\n",
       "    <tr>\n",
       "      <th>246</th>\n",
       "      <td>0.003683</td>\n",
       "      <td>0.014184</td>\n",
       "      <td>0.374384</td>\n",
       "    </tr>\n",
       "    <tr>\n",
       "      <th>247</th>\n",
       "      <td>0.004495</td>\n",
       "      <td>0.010280</td>\n",
       "      <td>0.671207</td>\n",
       "    </tr>\n",
       "    <tr>\n",
       "      <th>248</th>\n",
       "      <td>0.018936</td>\n",
       "      <td>0.058669</td>\n",
       "      <td>0.482135</td>\n",
       "    </tr>\n",
       "    <tr>\n",
       "      <th>249</th>\n",
       "      <td>0.003768</td>\n",
       "      <td>0.051557</td>\n",
       "      <td>0.071103</td>\n",
       "    </tr>\n",
       "  </tbody>\n",
       "</table>\n",
       "<p>250 rows × 3 columns</p>\n",
       "</div>"
      ],
      "text/plain": [
       "           vh        vv       RVI\n",
       "0    0.023219  0.128806  0.238760\n",
       "1    0.019368  0.043169  0.689417\n",
       "2    0.014625  0.060399  0.344264\n",
       "3    0.003192  0.012423  0.369629\n",
       "4    0.011087  0.059098  0.251152\n",
       "..        ...       ...       ...\n",
       "245  0.005160  0.011760  0.673635\n",
       "246  0.003683  0.014184  0.374384\n",
       "247  0.004495  0.010280  0.671207\n",
       "248  0.018936  0.058669  0.482135\n",
       "249  0.003768  0.051557  0.071103\n",
       "\n",
       "[250 rows x 3 columns]"
      ]
     },
     "execution_count": 68,
     "metadata": {},
     "output_type": "execute_result"
    }
   ],
   "source": [
    "df_submision = pd.concat([test_file, sub_vh_vv_data, rvi_sub], axis = 1)\n",
    "df_submision = df_submision[['vh', 'vv', 'RVI']]\n",
    "df_submision"
   ]
  },
  {
   "cell_type": "code",
   "execution_count": 69,
   "id": "08419a97-b178-425b-bbef-ba57c6c76659",
   "metadata": {},
   "outputs": [],
   "source": [
    "transformed_submission_data = rob.transform(np.array(df_submision))"
   ]
  },
  {
   "cell_type": "code",
   "execution_count": 127,
   "id": "efd9e704-e4b8-45e3-bd2b-5080626a50ef",
   "metadata": {},
   "outputs": [
    {
     "data": {
      "text/plain": [
       "0      1\n",
       "1      1\n",
       "2      1\n",
       "3      0\n",
       "4      1\n",
       "      ..\n",
       "245    0\n",
       "246    0\n",
       "247    0\n",
       "248    1\n",
       "249    1\n",
       "Length: 250, dtype: int64"
      ]
     },
     "execution_count": 127,
     "metadata": {},
     "output_type": "execute_result"
    }
   ],
   "source": [
    "#### PREDITION OF SUBMISON DATA\n",
    "\n",
    "final_predictions = final_cl.predict(transformed_submission_data)\n",
    "final_prediction_series = pd.Series(final_predictions)\n",
    "final_prediction_series"
   ]
  },
  {
   "cell_type": "code",
   "execution_count": 128,
   "id": "3ca512cb-d5a8-4032-b071-2bd6a6a3bde6",
   "metadata": {},
   "outputs": [],
   "source": [
    "target = np.where(final_prediction_series == 1, 'Rice', 'Non Rice')\n",
    "submission_df = pd.DataFrame({'id':test_file['id'].values, 'target':target})"
   ]
  },
  {
   "cell_type": "code",
   "execution_count": 129,
   "id": "9490851d-c34b-424a-9e4d-3dec2266d350",
   "metadata": {},
   "outputs": [],
   "source": [
    "submission_df.to_csv('SubXGB2.csv', index = False)"
   ]
  }
 ],
 "metadata": {
  "kernelspec": {
   "display_name": "Python 3 (ipykernel)",
   "language": "python",
   "name": "python3"
  },
  "language_info": {
   "codemirror_mode": {
    "name": "ipython",
    "version": 3
   },
   "file_extension": ".py",
   "mimetype": "text/x-python",
   "name": "python",
   "nbconvert_exporter": "python",
   "pygments_lexer": "ipython3",
   "version": "3.10.6"
  }
 },
 "nbformat": 4,
 "nbformat_minor": 5
}
